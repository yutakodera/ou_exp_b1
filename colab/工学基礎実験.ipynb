{
  "cells": [
    {
      "cell_type": "markdown",
      "metadata": {
        "id": "IhPdRy-Qwc3F"
      },
      "source": [
        "# 工学基礎実験\n",
        "\n",
        "## Pythonでのプログラミング\n",
        "\n",
        "プログラミング言語にはコンパイル型（C言語など）やインタプリタ型（今回使用するPythonなど）の様々な言語があります．\n",
        "\n",
        "その中でも今回使用するPythonは昨今大きな変革を見せている生成系AIをはじめ様々なアプリケーション開発で活用されている言語です．\n",
        "一方で，C言語などのコンパイル型言語に比べると，実行速度が遅いといったデメリットとなる部分もあります．\n",
        "\n",
        "こういったメリット，デメリットについて知るために，この実験ではまずPythonで様々な処理が実現可能であること，場合によっては処理に大きく時間がかかることを体験してみましょう．\n",
        "\n",
        "本実験では要所を抜粋して概説しています．より詳細な情報についてはこちらの[Pythonコミュニティ](https://www.python.jp/)を参照してみてください．"
      ]
    },
    {
      "cell_type": "markdown",
      "metadata": {
        "id": "1AccNOz-BQpN"
      },
      "source": [
        "### __Python入門__\n",
        "\n",
        "まずはPythonでどのような画像処理ができるか具体的に見てみましょう．\n",
        "直下の`from PIL ...`という箇所をクリックすると，左側に再生ボタンのようなマークが出てきます．これを押すとGoogle Colaboratory上でプログラム等を実行することができます．\n"
      ]
    },
    {
      "cell_type": "code",
      "execution_count": null,
      "metadata": {
        "id": "EjOpM1HUO8IH"
      },
      "outputs": [],
      "source": [
        "!pip install ipython\n",
        "!pip install pillow\n",
        "import IPython\n",
        "from PIL import Image\n",
        "import requests\n",
        "url = 'https://github.com/Megvii-BaseDetection/YOLOX/blob/main/assets/dog.jpg?raw=true'\n",
        "IPython.display.Image(requests.get(url).content)"
      ]
    },
    {
      "cell_type": "markdown",
      "metadata": {
        "id": "Om3-oznHyI-p"
      },
      "source": [
        "上記ではインターネット上にある画像をダウンロードし，描画するプログラムとなっています．たった4行ですが，インターネット上のファイルへアクセスし，取得，プログラム内で画像を扱うことができるように読み込み，描画するといった複雑な処理を実行することができています．\n",
        "\n",
        "このようにPythonでは少ない記述で様々なことを行うことができるようになっており，近年ではより幅広い処理を簡単にこなすことができてしまいます．\n",
        "\n",
        "以下ではこのようなメリットを生かして，画像処理やAIに関わる事項を理解・活用するために必要となる基礎的な文法について学び，実際に画像内の物体検知といった応用例に触れてみます．\n",
        "\n",
        "また，大テーマ2の後半ではIoTデバイスを活用してセンサーを制御することを学習します．ここで学習したPythonはそのような場面でも活躍します．"
      ]
    },
    {
      "cell_type": "markdown",
      "metadata": {
        "id": "03dmctP_i5r2"
      },
      "source": [
        "#### <u>文字の表示</u>\n",
        "\n",
        "Pythonでは文字を表示させるために`print`を使用し．`\"`もしくは`'`で囲まれた部分が実際に表示される文字列になります．また，`#`はコメントアウトといい，プログラムには影響しないが，ソースコード中へコメントを書きたいときに使用します．\n",
        "\n",
        "以下の例を参考に各課題中の`XXXXX`を書き換えてみましょう．\n",
        "（`XXXXX`は共通して同じもの入力するわけではなく，異なることがあります．）\n",
        "\n",
        "例：\n",
        "```\n",
        "print(\"Hello world\")  # ここから後ろはただのコメントです．プログラムには影響がありません．\n",
        "\n",
        "print('Hello world')  # 出力結果は上と同じです\n",
        "\n",
        "```"
      ]
    },
    {
      "cell_type": "markdown",
      "metadata": {
        "id": "MIGnRW3hRTC4"
      },
      "source": [
        "__課題1__：`Hello world`を自身の学生番号に書き換えて，プログラムを実行することで変更されていることを確認しましょう．"
      ]
    },
    {
      "cell_type": "code",
      "execution_count": null,
      "metadata": {
        "id": "-dGwpCwQcVS_"
      },
      "outputs": [],
      "source": [
        "# 以下に課題1の内容を書いてみましょう，左側の再生マークをクリックすることでプログラムを実行できます．\n",
        "\n",
        "\n"
      ]
    },
    {
      "cell_type": "markdown",
      "metadata": {
        "id": "LcRxlCOzcoC-"
      },
      "source": [
        "#### <u>変数と計算</u>\n",
        "\n",
        "プログラム中では__変数__へデータを保存し，足し算，引き算，掛け算，割り算，剰余演算，べき乗算といった演算を用いることで様々な計算を行うことができます．\n",
        "\n",
        "例えば，100円のりんごが5個，80円のみかんが7個，230円のぶどうが3個あるとします．\n",
        "これらの合計金を計算することを考えてみると，その計算式は$(100 \\times 5) + (80 \\times 7) + (230 \\times 3)$になります．\n",
        "\n",
        "変数を使わず，この計算式をプログラムに起こすと以下のようになります．ただし，`total`は計算結果を保存する変数で，`=`により右側の値を左側の変数へ代入することを表しています．\n",
        "```\n",
        "total = (100 * 5) + (80 * 7) + (230 * 3)\n",
        "print(total)\n",
        "```\n",
        "\n",
        "さらに変数をもちいて書き換えると以下のようになります．\n",
        "ただし，変数についてはそれぞれ表の通りです．\n",
        "\n",
        "```\n",
        "price_apple  = 100\n",
        "price_orange = 80\n",
        "price_grape  = 230\n",
        "amount_apple  = 5\n",
        "amount_orange = 7\n",
        "amount_grape  = 3\n",
        "\n",
        "total = (price_apple * amount_apple) + (price_orange * amount_orange) + (price_grape * amount_grape)\n",
        "print(total)\n",
        "```\n",
        "\n",
        "| 変数名 | 概説 |\n",
        "| ---- | ---- |\n",
        "| price_apple | りんご1個あたりの税込み金額 |\n",
        "| price_orange | みかん1個あたりの税込み金額 |\n",
        "| price_grape | ぶどう1個あたりの税込み金額 |\n",
        "| amount_apple | りんごの個数 |\n",
        "| amount_orange | みかんの個数 |\n",
        "| amount_grape | ぶどうの個数 |\n",
        "\n",
        "\n",
        "記述量が増えただけに見えますが，変数を用いることで果物の価格や個数に変化があった場合でも`total`を求めるための計算式を直接書き換える必要がなくなります．\n",
        "この計算式が微分や積分，行列計算といった，より大規模で複雑となったとき，1つの変数しか変化していなのに計算式すべてを見直して修正するのは非常に大変です．\n",
        "そのため，何かの処理をプログラムとして実装する際には，変数をうまく使うことで値の管理とソースコードの可読性を高めておくことが重要となります．"
      ]
    },
    {
      "cell_type": "markdown",
      "metadata": {
        "id": "o7ddI5mpsL6e"
      },
      "source": [
        "__課題2__：プログラム中で実行させる計算では，加減乗除の四則演算に加え，剰余演算（余りを取る演算）とべき乗算もよく使われます．次の各演算に関する記述例を参考に，xy平面上の2点（−1,1）、（4,11）を通る直線の傾き`a`と切片`b`を求めてみましょう．\n",
        "\n",
        "例：\n",
        "```\n",
        "a = 5\n",
        "b = 3\n",
        "\n",
        "c = a + b   # 足し算\n",
        "c = a - b   # 引き算\n",
        "c = a * b   # 掛け算\n",
        "c = a / b   # 割り算（結果は少数値）\n",
        "c = a // b  # 割り算（結果はaをbで割ったときの商）\n",
        "c = a % b   # 剰余演算（aをbで割ったときのあまり）\n",
        "c = a ** b  # べき乗演算（aのb乗）\n",
        "```"
      ]
    },
    {
      "cell_type": "code",
      "execution_count": null,
      "metadata": {
        "id": "XI5K6RovuxUS"
      },
      "outputs": [],
      "source": [
        "# 以下へ課題2を記述\n",
        "\n"
      ]
    },
    {
      "cell_type": "markdown",
      "metadata": {
        "id": "vXrAeYwPvrB3"
      },
      "source": [
        "#### __繰り返し処理__\n",
        "\n",
        "プログラムを作成するとき，同じ処理を何度も繰り返し処理させたいことが多くあります．そのような場合には`for`文や`while`文を用いることで繰り返し処理を行うことができます．ここでは`for`文で処理を繰り返す方法を見てみましょう．\n",
        "\n",
        "まずは$0 \\leq i < 10$の範囲で変数`i`を1ずつ増加させ，その合計`s`を表示させる例です．\n",
        "以下の`range(0,10,1)`では`i`の値を$0$から初めて$10$未満まで$1$ずつカウントアップすることを指定しています．これらを書き換えることで`i`の値を更新しながら処理を繰り返していきます．以下の例では，`for`文内の処理として`print(i)`と`s = s + i`を実行しています．\n",
        "```\n",
        "s = 0\n",
        "for i in range(0,10,1):\n",
        "  print(i)\n",
        "  s = s + i\n",
        "print(s)\n",
        "```\n",
        "\n",
        "__注意1__：\n",
        "\n",
        "`range`に指定した値未満までしかカウントアップされない（`range(10)`であれば`i=9`までカウントアップされる）ので注意しましょう．\n",
        "\n",
        "__注意2__：\n",
        "\n",
        "Pythonではソースコード内の段落付け（=インデント）が重要な意味をもちます（スペースとタブも区別されます）．\n",
        "この例では`for`の後に続く`print(i)`と`s = s + i`の2行で，それぞれの前に等しくスペースが入っています．一方で，最後の`print(s)`の前にはスペースはありません．\n",
        "Pythonではこの違いが重要で，`print(i)`と`s = s + i`は繰り返し処理の対象となりますが，`print(s)`は繰り返し実行されません．\n"
      ]
    },
    {
      "cell_type": "markdown",
      "metadata": {
        "id": "V11oUCSd_zST"
      },
      "source": [
        "__課題3__：0から100までのうち奇数の和と偶数の和をそれぞれ求めるプログラムを作成してみましょう．"
      ]
    },
    {
      "cell_type": "code",
      "execution_count": null,
      "metadata": {
        "id": "DLkGfWxzBBmB"
      },
      "outputs": [],
      "source": [
        "# 以下へ課題3を記述\n",
        "\n"
      ]
    },
    {
      "cell_type": "markdown",
      "metadata": {
        "id": "ytx2JqOd40RO"
      },
      "source": [
        "#### __条件分岐処理__\n",
        "\n",
        "プログラムを作成していると繰り返し処理同様に，条件によって処理を変更したいということも頻繁に起こります．例えば，学割を例に考えてみましょう．\n",
        "\n",
        "学割では学生利用者に対して料金の割引等を行ってくれるサービスですが，言い換えれば，利用者が学生か学生でないかを判断し，サービスの内容が変わります．\n",
        "\n",
        "if文の役割はまさにこの条件（学生であるか否か）を判断し，適切な処理へ誘導することです．\n",
        "\n",
        "まずは簡単のため，数値での例を見てみましょう．\n",
        "以下の例では評点（`score`）に基づいて表示される評価区分を変えるプログラムです．具体的には次の表のとおりです．\n",
        "\n",
        "| 評点 | 評価区分 |\n",
        "| --- | --- |\n",
        "| 90～ | A+ |\n",
        "| 80～89 | A |\n",
        "| 70～79 | B |\n",
        "| 60～69 | C |\n",
        "| ～59 | F |\n",
        "\n",
        "```\n",
        "score = 73\n",
        "\n",
        "if score >= 90:\n",
        "    print('A+')\n",
        "elif (score >= 80) and (score < 90):\n",
        "    print('A')\n",
        "elif (score >= 70) and (score < 80):\n",
        "    print('B')\n",
        "elif (score >= 60) and (score < 70):\n",
        "    print('C')\n",
        "else:\n",
        "    print('F')\n",
        "```\n",
        "\n",
        "この例ではまず`if score >= 90:`の行で評点が90点以上か否かを判断し，当てはまる場合には'A+'と表示します．\n",
        "一方で，当てはまらない場合には`elif (score >= 80) and (score < 90):`で2度目の条件判定を行い，当てはまる場合には'B'と表示，．．．という具合に上から順に条件を判定していきます．そしてそれまでにいずれにも当てはまらないばあには`else`と書かれている処理を実行します．\n",
        "\n",
        "__注意3__：\n",
        "\n",
        "繰り返し処理同様に，`if`文による条件分岐を行う場合にもインデントをそろえる必要があります．\n",
        "\n",
        "__注意4__：\n",
        "\n",
        "`elif`，`else`は省略することができます．ただし，`if`がない状態で，`elif`，`else`を使用することはできません．"
      ]
    },
    {
      "cell_type": "markdown",
      "metadata": {
        "id": "8RiDVlklHuxw"
      },
      "source": [
        "__課題4__：二次関数$f(x) = ax^2+bx+c (a\\neq0)$が解をもつための条件を判定し，$f(x)=0$でもつ解の個数を表示するプログラムを作成してみましょう．ただし，$a,b,c$はプログラム中で任意に変更ができるように，変数として定義するものとします．"
      ]
    },
    {
      "cell_type": "code",
      "execution_count": null,
      "metadata": {
        "id": "hCge4Fa0ElNB"
      },
      "outputs": [],
      "source": [
        "# 以下へ課題4を記述\n",
        "\n",
        "a = 3\n",
        "b = 7\n",
        "c = 4\n",
        "\n"
      ]
    },
    {
      "cell_type": "markdown",
      "metadata": {
        "id": "cjdr0BUOO-1y"
      },
      "source": [
        "\n",
        "\n",
        "---"
      ]
    },
    {
      "cell_type": "markdown",
      "metadata": {
        "id": "C-jXqcbjO4Gx"
      },
      "source": [
        "## Pythonでのデジタル画像処理や物体検知\n",
        "\n",
        "まずは画像のサイズを変更したり，色調を変更するような画像処理を行ってみましょう．\n",
        "ここでは[Opencv](http://labs.eecs.tottori-u.ac.jp/sd/Member/oyamada/OpenCV/html/index.html)というライブラリ（様々な処理を提供する機能群）を利用します．\n",
        "Pythonについて学習するにあたり，犬の画像を表示させてみましたが，そもそも画像はどのように扱われているかについて見てみましょう．\n",
        "\n",
        "### __RGB空間__\n",
        "\n",
        "身の回りにある様々な色を表現する方法としては「光の三原色」や「色相環」などがよく知られており，赤と青を混ぜると紫になる，赤と緑が補色の関係にあるといった色に関する情報を扱うことができました．\n",
        "\n",
        "プログラム内部でも同様にこれらの原理に基づいた色表現がなされており，ここでは光の三原色に基づき，赤（Red）・緑（Green）・青（Blue）の組み合わせで色を表現する「RGB空間」についてみていきます．\n",
        "\n",
        "<img src=\"https://github.com/yutakodera/ou_exp_b1/blob/main/figs/rgb.png?raw=true\" width=\"35%\">\n",
        "\n",
        "RGBでは赤・緑・青のそれぞれに対する光の量（輝度）が$256( = 2^8)$段階（$0 \\sim 255$の数値）で表現され，$(r,g,b) = (0,0,0)$のとき黒色，$(r,g,b) = (255, 255, 255)$のとき白色となります．\n",
        "\n",
        "以下のプログラムで`r,g,b`の値を変更して，表示される色がどのように変わるか確認してみましょう．\n"
      ]
    },
    {
      "cell_type": "code",
      "execution_count": null,
      "metadata": {
        "id": "0fhAjUgs3Efo"
      },
      "outputs": [],
      "source": [
        "import matplotlib.pyplot as plt\n",
        "\n",
        "# r,g,bのそれぞれへ0～255までの値を指定\n",
        "r = 0\n",
        "g = 0\n",
        "b = 0\n",
        "\n",
        "# 色を描画\n",
        "plt.imshow([[(r, g, b)]])\n",
        "plt.axis('off')\n",
        "plt.show()\n"
      ]
    },
    {
      "cell_type": "markdown",
      "metadata": {
        "id": "lEwB0U-E3uL9"
      },
      "source": [
        "上記のプログラムを通してみたように，表現できる色の総数は$256 \\times 256 \\times 256 = 16777216$通りで，現代で用いられるカラー画像の多くはこの$(r,g,b)$のペアを1まとまり（=1画素（ピクセル））とし，その集合体として表現されます．\n",
        "\n",
        "つまり，本実験で最初に見た犬の画像も次のようにたくさんのピクセルの集合体として描画されています．\n",
        "<img src=\"https://github.com/yutakodera/ou_exp_b1/blob/main/figs/img_construction.png?raw=true\" width=\"50%\">"
      ]
    },
    {
      "cell_type": "markdown",
      "metadata": {
        "id": "jmInLvODONJ5"
      },
      "source": [
        "### __画像の色情報加工__\n",
        "\n",
        "RGB空間が理解できれば，画像の色情報を加工することが可能となります．\n",
        "実際に犬の画像を加工してみましょう．\n",
        "\n",
        "ここで用いる犬の画像は幅が$768$ピクセル，高さが$576$ピクセルの画像です．\n",
        "まずは以下のプログラム一度実行し，実験の冒頭で見た犬の画像と同じものが表示されることを確認しましょう．\n"
      ]
    },
    {
      "cell_type": "code",
      "execution_count": null,
      "metadata": {
        "id": "4T8hN16babTl"
      },
      "outputs": [],
      "source": [
        "import cv2\n",
        "import requests\n",
        "from PIL import Image\n",
        "from IPython.display import display\n",
        "import numpy as np\n",
        "\n",
        "url = 'https://github.com/Megvii-BaseDetection/YOLOX/blob/main/assets/dog.jpg?raw=true'\n",
        "img = cv2.imdecode(np.array(bytearray(requests.get(url).content), dtype=np.uint8), -1)\n",
        "img = cv2.cvtColor(img, cv2.COLOR_BGR2RGB)\n",
        "\n",
        "\n",
        "\n",
        "display(img)"
      ]
    },
    {
      "cell_type": "markdown",
      "metadata": {
        "id": "WQFH7bRgIqp2"
      },
      "source": [
        "次に，`display(img)`の直前へ以下のコードを追記し，再度実行してみましょう．\n",
        "```\n",
        "for h in range(576):\n",
        "    for w in range(768):\n",
        "        img[h][w][0] = 0\n",
        "```\n",
        "\n",
        "読み込まれた犬の画像は変数`img`へ行列のような形式で格納されており，`img[h][w][0]`というのは$h$行$w$列目にあるピクセルの色情報のうち，赤色の情報を指しています．緑，青色はそれぞれ`img[h][w][1], img[h][w][2]`で書き換えることができます．\n",
        "\n"
      ]
    },
    {
      "cell_type": "markdown",
      "metadata": {
        "id": "bd6Amm3TUbi5"
      },
      "source": [
        "__課題5__：上記の例と同様に犬の画像を対象として，次の例のように画像の$100$行$299$列目から$200$行$499$列目までを黒塗りするプログラムを作成してみましょう．\n",
        "\n",
        "<img src=\"https://github.com/yutakodera/ou_exp_b1/blob/main/figs/kadai5_sample.png?raw=true\" width=\"50%\">"
      ]
    },
    {
      "cell_type": "code",
      "execution_count": null,
      "metadata": {
        "id": "6B-Bg5T5U5Hi"
      },
      "outputs": [],
      "source": [
        "import cv2\n",
        "import requests\n",
        "from PIL import Image\n",
        "from IPython.display import display\n",
        "import numpy as np\n",
        "\n",
        "url = 'https://github.com/Megvii-BaseDetection/YOLOX/blob/main/assets/dog.jpg?raw=true'\n",
        "img = cv2.imdecode(np.array(bytearray(requests.get(url).content), dtype=np.uint8), -1)\n",
        "img = cv2.cvtColor(img, cv2.COLOR_BGR2RGB)\n",
        "\n",
        "# 以下へ課題5の処理を記述\n",
        "\n",
        "\n",
        "display(img)"
      ]
    },
    {
      "cell_type": "markdown",
      "metadata": {
        "id": "qv7tyhwes5XW"
      },
      "source": [
        "__課題6__：課題5では特定の領域を黒塗りで塗りつぶしましたが，次は同じ領域の色情報をランダムに置き換えるプログラムを作成してみましょう．ただし，乱数の生成には`random.randint(0,255)`を用いることとします．"
      ]
    },
    {
      "cell_type": "code",
      "execution_count": null,
      "metadata": {
        "id": "18htvVAks9fs"
      },
      "outputs": [],
      "source": [
        "import cv2\n",
        "import requests\n",
        "from PIL import Image\n",
        "from IPython.display import display\n",
        "import numpy as np\n",
        "import random\n",
        "\n",
        "url = 'https://github.com/Megvii-BaseDetection/YOLOX/blob/main/assets/dog.jpg?raw=true'\n",
        "img = cv2.imdecode(np.array(bytearray(requests.get(url).content), dtype=np.uint8), -1)\n",
        "img = cv2.cvtColor(img, cv2.COLOR_BGR2RGB)\n",
        "\n",
        "# 以下へ課題6の処理を記述\n",
        "\n",
        "\n",
        "display(img)"
      ]
    },
    {
      "cell_type": "markdown",
      "metadata": {
        "id": "YHOwS2DQXPXP"
      },
      "source": [
        "### __YOLOXによる物体検知__\n",
        "\n",
        "人工知能やAI（Artificial Intelligence）といった言葉をよく耳にすることかと思いますが，実は昨今の盛り上がりは第3次AIブームで，その登場は1900年代中盤といわれています．\n",
        "\n",
        "今日のAI技術は長期に渡り研究されてきた成果に下支えされており，様々な手法が開発されています．\n",
        "これらの性質を理解し，うまく用いることで言語操作や画像処理，時系列データの分析といった様々なタスクを計算機に実行させることが可能となります．\n",
        "\n",
        "ここでは画像を扱うタスクのうち，物体検知と呼ばれる処理についてみていきます．\n",
        "物体検知では，与えられた画像内に映る特定の物体（例えば人，犬，車，など）を見つけ出すことが目的となり，画像内の特徴を捉えるために畳み込みニューラルネットワーク（CNN: Convolutional Neural Network）と呼ばれる手法がよく用いられています．\n",
        "\n",
        "その中で高い認識精度を達成する手法の1つがYOLOと呼ばれるもので，YOLOXはYOLOをベースとしたシリーズの1つです．\n",
        "まずはYOLOXを使用するために，以下を実行して準備をしましょう．詳細は割愛しますが，YOLOXをはじめオープンソースで開発されているソフトウェアの多くはGithubと呼ばれるソフトウェア開発プラットフォーム上で公開されています．以下のコードでは，YOLOXをダウンロードし，必要な環境を構築しています．"
      ]
    },
    {
      "cell_type": "code",
      "execution_count": null,
      "metadata": {
        "id": "WwGPDOuQXxHb"
      },
      "outputs": [],
      "source": [
        "!git clone https://github.com/Megvii-BaseDetection/YOLOX.git\n",
        "%cd YOLOX\n",
        "!pip install -U pip && pip install -r requirements.txt\n",
        "!pip install -v -e .\n",
        "!wget https://github.com/Megvii-BaseDetection/YOLOX/releases/download/0.1.1rc0/yolox_nano.pth -O /content/YOLOX/\"yolox_nano.pth\""
      ]
    },
    {
      "cell_type": "markdown",
      "metadata": {
        "id": "0cWA1hAYvBVv"
      },
      "source": [
        "YOLOXをはじめとする多くの物体検知手法では教師あり学習と呼ばれる，既知の入出力データを機械学習アルゴリズムに与えることで，正解を導き出せるように学習させる手法をとります．\n",
        "\n",
        "つまり，YOLOX内には大きく分けて2種類のプログラムがあり，正解データに基づき学習を行うプログラムと，その結果を用いて与えられた画像内に学習した物体が含まれているかどうか判別する（推論）プログラムが含まれています．\n",
        "\n",
        "高精度な学習には精密かつ大きなデータセット（正解データの集合）が必要であり，かつ膨大な時間がかかるためここでは割愛し，学習済みのモデルで推論を行ってみます．\n",
        "\n",
        "では，最後に以下を実行してみましょう．\n",
        "\n"
      ]
    },
    {
      "cell_type": "code",
      "execution_count": null,
      "metadata": {
        "id": "UgFm1ajOnyqK"
      },
      "outputs": [],
      "source": [
        "import cv2\n",
        "import requests\n",
        "from PIL import Image\n",
        "from IPython.display import display\n",
        "import numpy as np\n",
        "import glob\n",
        "\n",
        "!python /content/YOLOX/tools/demo.py image -f /content/YOLOX/exps/default/yolox_nano.py -c /content/YOLOX/yolox_nano.pth --path /content/YOLOX/assets/dog.jpg --conf 0.25 --save_result\n",
        "\n",
        "files = glob.glob('/content/YOLOX/YOLOX_outputs/yolox_nano/vis_res/*/dog.jpg')\n",
        "img = cv2.imread(files[-1])\n",
        "img = cv2.cvtColor(img, cv2.COLOR_BGR2RGB)\n",
        "display(img)"
      ]
    },
    {
      "cell_type": "markdown",
      "metadata": {
        "id": "gWOUk9h31yYw"
      },
      "source": [
        "これまで使用してきた画像内で，犬，自転車，車を含む領域へ数値とともに矩形が描画されていると思います．この数字はどの程度学習した内容と一致しているかについての自信（確度）を表しており，犬，自転車，車のみを識別しているのは，あらかじめ学習した際にこれらを判別できるように正解データが用意されていたからです．\n",
        "\n",
        "このように，Pythonを用いれば様々な処理を手軽に実現することができる一方で，実行に時間がかかるというデメリットも忘れてはなりません．\n",
        "今回用いたOpenCVも，開発者がC言語やC++言語などの高速なプログラミング言語で実装し，それをPythonで使用できるようにしてくれています．\n",
        "そのため，Pythonのみならず様々な言語も学習し，適材適所で活用できるようにしましょう．"
      ]
    }
  ],
  "metadata": {
    "colab": {
      "provenance": []
    },
    "kernelspec": {
      "display_name": "Python 3",
      "name": "python3"
    },
    "language_info": {
      "name": "python"
    }
  },
  "nbformat": 4,
  "nbformat_minor": 0
}